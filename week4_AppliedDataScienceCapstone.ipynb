{
 "cells": [
  {
   "cell_type": "markdown",
   "metadata": {},
   "source": [
    "# Requirement "
   ]
  },
  {
   "cell_type": "markdown",
   "metadata": {},
   "source": [
    "**For this week, you will required to submit the following:**\n",
    "\n",
    "- A description of the problem and a discussion of the background. (15 marks)\n",
    "- A description of the data and how it will be used to solve the problem. (15 marks)"
   ]
  },
  {
   "cell_type": "markdown",
   "metadata": {},
   "source": [
    "## a. Problem and Background"
   ]
  },
  {
   "cell_type": "markdown",
   "metadata": {},
   "source": [
    "Some people call themselves \"foodies\" maybe simply because it is a trendy word to use when posting pictures of food on social networks. To be frank, I never put the \"foodie\" label on myself, but I am the type of person would travel for good restaurants. In my eyes, cities are made of not only sightseeing spots but also food---ethnic, casual, local fast food, fine dining, you name it.\n",
    "\n",
    "It would be interesting and informative for people like myself to find a way to visualize and clustering cities based on categories of restaurants in a holistic way. Going forward we can simply refer at the findings of this little project to plan next travel."
   ]
  },
  {
   "cell_type": "markdown",
   "metadata": {},
   "source": [
    "## b. What Data and How to use"
   ]
  },
  {
   "cell_type": "markdown",
   "metadata": {},
   "source": [
    "The Foursquare venue data will be extracted via API calls for a few big cities of choice, such as NYC, LA, and Huston. The subset of food venues with their categories will be selected. I will try to experiment with different level of granularity in terms of the categories of restaurants because from what I observed in the lab of week3, the categories of restaurants are very sparse for NYC neighborhoods.  \n",
    "\n",
    "I will try to normalize the total number of chain restaurants in each city because I personally believe any location will offer the about the same experience, so it wouldn't add additional value or enjoyment for me to travel to a new city just for a chain food. \n",
    "\n",
    "After all the pre-processing, the restaurants will be encoded and pass to the KNN cluster model using scikit-learn library, which will then cluster cities based on categories of restaurants. I will do some exploratory analysis on some interesting or odd findings to try to explain the results. \n",
    "\n",
    "The clusters will be visualized with folium."
   ]
  }
 ],
 "metadata": {
  "kernelspec": {
   "display_name": "Python 3",
   "language": "python",
   "name": "python3"
  },
  "language_info": {
   "codemirror_mode": {
    "name": "ipython",
    "version": 3
   },
   "file_extension": ".py",
   "mimetype": "text/x-python",
   "name": "python",
   "nbconvert_exporter": "python",
   "pygments_lexer": "ipython3",
   "version": "3.7.3"
  }
 },
 "nbformat": 4,
 "nbformat_minor": 2
}
